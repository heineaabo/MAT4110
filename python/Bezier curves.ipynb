{
 "cells": [
  {
   "cell_type": "code",
   "execution_count": 1,
   "metadata": {
    "collapsed": true
   },
   "outputs": [],
   "source": [
    "import numpy as np\n",
    "import matplotlib.pyplot as plt"
   ]
  },
  {
   "cell_type": "markdown",
   "metadata": {},
   "source": [
    "# Bezier curves\n",
    "\n",
    "A real polynomial of a real variable $r \\in \\mathbb{R}$ with degree $n\\geq 1$ is a function of the form\n",
    "\n",
    "\\begin{equation}\n",
    "p(t) = a_0+a_1t+...+a_nt^n = \\sum_{i=0}^n a_it^{i}\n",
    "\\end{equation}\n",
    "\n",
    "if we denote this as $\\pi_n$; the linear space, with dimension $n+1$, of all such polynomials where the functions $1,t,...,t^n$ form the basis of $\\pi_n$ known as the monomial basis."
   ]
  },
  {
   "cell_type": "markdown",
   "metadata": {},
   "source": [
    "### Bernstein polynomials\n",
    "\n",
    "An alternative basis for $\\pi_n$ used to construct Bezier curves. The $i$-th Bernstein polynomial of degree $n$ is\n",
    "\n",
    "\\begin{equation}\n",
    "    B_i^n(t) = {n \\choose i}t^i(1-t)^{n-1}\n",
    "\\end{equation}\n",
    "\n",
    "where $0 \\leq i\\leq n$ \n",
    "\n",
    "\\begin{equation}\n",
    "    {n \\choose i} = \\frac{n!}{i!(n-i)!}\n",
    "\\end{equation}\n",
    "\n",
    "Have that \n",
    "\n",
    "\\begin{equation}\n",
    "    \\sum_{i=0}^nB_i^n(t) = 1\n",
    "\\end{equation}"
   ]
  },
  {
   "cell_type": "markdown",
   "metadata": {},
   "source": [
    "### Bezier curves\n",
    "\n",
    "parametric polynomial\n",
    "\\begin{equation}\n",
    "p(t) = \\sum_{i=0}^n a_it^{i}\n",
    "\\end{equation}\n",
    "with Bernstein basis\n",
    "\\begin{equation}\n",
    "p(t) = \\sum_{i=0}^n c_iB_i^{n}\n",
    "\\end{equation}\n",
    "The points $c_i$ are called control points of $p$. The curve is usually restricted to the parameter domain $[0,1]$, but is also defined for $t$ outside this domain. The polygon connecting all $c_i$ is called the control polygon of $p$.\n",
    "\n",
    "From Bernstein polynomials the Bezier curve get its endpoints $p(0)=c_0$ and $p(1)=c_n$.\n",
    "\n",
    "Bezier curves are affinely invariant."
   ]
  },
  {
   "cell_type": "code",
   "execution_count": 175,
   "metadata": {
    "collapsed": false
   },
   "outputs": [],
   "source": [
    "from scipy.special import factorial as fact\n",
    "\n",
    "def get_length(p1,p2):\n",
    "    x1,y1 = p1\n",
    "    x2,y2 = p2\n",
    "    return np.sqrt(np.abs(x1-x2)**2+np.abs(y1-y2)**2)\n",
    "\n",
    "def control_line(p1,p2,num):\n",
    "    case = 0 # standard case\n",
    "    if p1[0] < p2[0]:\n",
    "        x1,y1 = p1\n",
    "        x2,y2 = p2\n",
    "    if p1[0] > p2[0]:\n",
    "        case = 1\n",
    "        x1,y1 = p2\n",
    "        x2,y2 = p1\n",
    "    #l = np.sqrt(np.abs(x1-x2)**2+np.abs(y1-y2)**2)\n",
    "    if np.diff((x1,x2)) == 0:\n",
    "        x = np.ones(num)*y1\n",
    "        y = np.linspace(min(y1,y2),max(y1,y2),num)\n",
    "        if case:\n",
    "            x = np.flip(x)\n",
    "            y = np.flip(y)\n",
    "        return np.column_stack((x,y))\n",
    "    elif np.diff((y1,y2)) == 0:\n",
    "        x = np.linspace(min(x1,x2),max(x1,x2),num)\n",
    "        y = np.ones(num)*x1\n",
    "        if case:\n",
    "            x = np.flip(x)\n",
    "            y = np.flip(y)\n",
    "        return np.column_stack((x,y))\n",
    "    else:\n",
    "        x = np.linspace(min(x1,x2),max(x1,x2),num)\n",
    "        (np.diff((x1,x2))/np.diff((y1,y2))) * (t-min(x1,x2)) + min(y1,y2)\n",
    "        y = np.linspace(min(y1,y2),max(y1,y2),num)\n",
    "        if case:\n",
    "            x = np.flip(x)\n",
    "            y = np.flip(y)\n",
    "        return np.column_stack((x,y))\n",
    "    \n",
    "def parametrize(C,num):\n",
    "    \"\"\"\n",
    "    If more than two points, set connecting points next to each other\n",
    "    \"\"\"\n",
    "    p = np.zeros(num)\n",
    "    linenum = C.T[0].shape[0] - 1\n",
    "    linesx = np.zeros((num,linenum))\n",
    "    linesy = np.zeros((num,linenum))\n",
    "    for i in range(linenum):\n",
    "        line = control_line(C[i],C[i+1],num)\n",
    "        linesx[:,i] = line.T[0]\n",
    "        linesy[:,i] = line.T[1]\n",
    "    return linesx,linesy\n",
    "            \n",
    "            \n",
    "def Bezier(C,num):            \n",
    "    #T = np.linspace(0,1,num)\n",
    "    for i,c_i in enumerate(C):\n",
    "        for j,t in enumerate(T):\n",
    "            p[i] += c_i*B(t,C.shape[0],i)\n",
    "    return p\n",
    "\n",
    "def B(t,n,i): #Bernstein polynomial basis\n",
    "    return (fact(n) / (fact(i)*fact(n-i)))*t**i*(1-t)**(n-1)"
   ]
  },
  {
   "cell_type": "code",
   "execution_count": 220,
   "metadata": {
    "collapsed": false
   },
   "outputs": [
    {
     "data": {
      "image/png": "[encoded data removed]",
      "text/plain": [
       "<Figure size 432x288 with 1 Axes>"
      ]
     },
     "metadata": {},
     "output_type": "display_data"
    }
   ],
   "source": [
    "C = C = np.array([(1.4,3),(1,1),(2,1),(2.3,2)])\n",
    "cx,cy = parametrize(C,10)\n",
    "plt.plot(C.T[0][:2],C.T[1][:2],'k-.',label='Control polygon')\n",
    "plt.plot(C.T[0][1:],C.T[1][1:],'k-.')\n",
    "plt.plot(cx[5],cy[5],'r-')\n",
    "cx2,cy2 = parametrize(np.column_stack((cx[5],cy[5])),10)\n",
    "plt.plot(cx2[0,0],cy2[0,0],'b^')\n",
    "plt.show()"
   ]
  },
  {
   "cell_type": "code",
   "execution_count": 162,
   "metadata": {
    "collapsed": false
   },
   "outputs": [
    {
     "ename": "SyntaxError",
     "evalue": "invalid syntax (<ipython-input-162-00488d364833>, line 11)",
     "output_type": "error",
     "traceback": [
      "\u001b[0;36m  File \u001b[0;32m\"<ipython-input-162-00488d364833>\"\u001b[0;36m, line \u001b[0;32m11\u001b[0m\n\u001b[0;31m    print(lx.)\u001b[0m\n\u001b[0m             ^\u001b[0m\n\u001b[0;31mSyntaxError\u001b[0m\u001b[0;31m:\u001b[0m invalid syntax\n"
     ]
    }
   ],
   "source": [
    "n = 10\n",
    "t = np.linspace(0,1,10)\n",
    "C = np.array([(1,1),(2,1),(1.4,3)])\n",
    "#Plot control points\n",
    "plt.plot(C.T[0],C.T[1],'o',label='Control points')\n",
    "# Plot Control polygon\n",
    "plt.plot(C.T[0][:2],C.T[1][:2],'k-.',label='Control polygon')\n",
    "plt.plot([C.T[0][0],C.T[0][2]],[C.T[1][0],C.T[1][2]],'k-.')\n",
    "# Plot Bezier curve\n",
    "lx,ly = parametrize(C,n)\n",
    "print(lx.shape)\n",
    "plt.plot(lx[5][0],ly[5][0],'g^',lx[5][1],ly[5][1],'g^')\n",
    "plt.legend()\n",
    "plt.show()"
   ]
  },
  {
   "cell_type": "code",
   "execution_count": null,
   "metadata": {
    "collapsed": false
   },
   "outputs": [],
   "source": []
  },
  {
   "cell_type": "markdown",
   "metadata": {},
   "source": [
    "### The de Casteljau algorithm\n",
    "\n"
   ]
  },
  {
   "cell_type": "code",
   "execution_count": null,
   "metadata": {
    "collapsed": false
   },
   "outputs": [],
   "source": []
  },
  {
   "cell_type": "code",
   "execution_count": null,
   "metadata": {
    "collapsed": true
   },
   "outputs": [],
   "source": []
  }
 ],
 "metadata": {
  "kernelspec": {
   "display_name": "Python 3",
   "language": "python",
   "name": "python3"
  },
  "language_info": {
   "codemirror_mode": {
    "name": "ipython",
    "version": 3
   },
   "file_extension": ".py",
   "mimetype": "text/x-python",
   "name": "python",
   "nbconvert_exporter": "python",
   "pygments_lexer": "ipython3",
   "version": "3.6.6"
  }
 },
 "nbformat": 4,
 "nbformat_minor": 2
}
