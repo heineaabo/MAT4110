{
 "cells": [
  {
   "cell_type": "code",
   "execution_count": 3,
   "metadata": {
    "collapsed": false
   },
   "outputs": [],
   "source": [
    "import numpy as np\n",
    "import matplotlib.pyplot as plt\n",
    "\n",
    "%matplotlib inline"
   ]
  },
  {
   "cell_type": "markdown",
   "metadata": {},
   "source": [
    "# Root finding and gradient descent"
   ]
  },
  {
   "cell_type": "markdown",
   "metadata": {},
   "source": [
    "Roots: Finding solution(s) to the equation $f(x)=0$.\n",
    "\n",
    "Intermediate value theorem states that for an interval $[a,b]$ where $f(a)$ and $f(b)$ have opposite sign, $f$ must have at least one zero in the interval if $f$ is continous."
   ]
  },
  {
   "cell_type": "markdown",
   "metadata": {},
   "source": [
    "### Bisection method\n",
    "\n",
    "Robust and garanteed to converge, however possibly with a slow rate. \n",
    "\n",
    "At each iteration the midpoint $m=frac{a+b}{2}$ of the interval is evaluated with two possible outcomes:\n",
    "(We always have that opposite signs for $f(a)$ and $f(b)$)\n",
    "\n",
    "- If $f(m)$ > 0: $a_{new} = m$, $b_{new}=b$\n",
    "- If $f(m)$ < 0: $b_{new} = m$, $a_{new}=a$ \n",
    "\n",
    "The algorithm will thus always converge, until $f(m)=0$."
   ]
  },
  {
   "cell_type": "markdown",
   "metadata": {},
   "source": [
    "#### Code:"
   ]
  },
  {
   "cell_type": "code",
   "execution_count": 114,
   "metadata": {
    "collapsed": false
   },
   "outputs": [],
   "source": [
    "def bisection(x,y,max_it=100,conv=1e-20,prnt=True):\n",
    "    nums = np.linspace(0,y.shape[0]-1,y.shape[0],dtype=int)\n",
    "    a = nums[0]\n",
    "    b = nums[-1]\n",
    "    e2 = np.abs(y[a]-y[b])\n",
    "    for i in range(max_it):\n",
    "        m = int( (a + b) / 2)\n",
    "        f = y[m]\n",
    "        if np.abs(f) < conv:\n",
    "            break\n",
    "        if f > 0:\n",
    "            b = m\n",
    "        if f < 0:\n",
    "            a = m\n",
    "        e1 = e2\n",
    "        e2 = np.abs(y[a]-y[b])\n",
    "        if prnt:\n",
    "            print('f(m) = {:10.4}: a={}, b={:>2}, error: {:.4}'.format(f,a,b,np.abs(y[a]-y[b])))\n",
    "        if np.abs(e1-e2) < conv:\n",
    "            break\n",
    "    print('Converge for i = {}!'.format(i))\n",
    "    return x[m],y[m]"
   ]
  },
  {
   "cell_type": "markdown",
   "metadata": {},
   "source": [
    "#### Test"
   ]
  },
  {
   "cell_type": "code",
   "execution_count": 120,
   "metadata": {
    "collapsed": false
   },
   "outputs": [
    {
     "name": "stdout",
     "output_type": "stream",
     "text": [
      "Converge for i = 7!\n",
      "-0.84 -0.0039039999999994635\n"
     ]
    },
    {
     "data": {
      "image/png": "[encoded data removed]",
      "text/plain": [
       "<Figure size 432x288 with 1 Axes>"
      ]
     },
     "metadata": {},
     "output_type": "display_data"
    }
   ],
   "source": [
    "x = np.linspace(-1,1,101)\n",
    "y = x**3 - 2*x**2 + 2\n",
    "plt.plot(x,y,'r--')\n",
    "x1,y1=bisection(x,y,prnt=False)\n",
    "plt.plot(x1,y1,'bo')\n",
    "print(x1,y1)"
   ]
  },
  {
   "cell_type": "markdown",
   "metadata": {},
   "source": [
    "Update the algorithm with choosing a straigth line between the two end points instead of midpoint."
   ]
  },
  {
   "cell_type": "code",
   "execution_count": 116,
   "metadata": {
    "collapsed": true
   },
   "outputs": [],
   "source": [
    "def secant(x,y,max_it=100,conv=1e-20,prnt=True):\n",
    "    nums = np.linspace(0,y.shape[0]-1,y.shape[0],dtype=int)\n",
    "    a = nums[0]\n",
    "    b = nums[-1]\n",
    "    e2 = np.abs(y[a]-y[b])\n",
    "    for i in range(max_it):\n",
    "        m = int( (0.5*y[b]*a - y[a]*b) / (0.5*y[b] - y[a]) + (x[0]+1) )\n",
    "        f = y[m]\n",
    "        if np.abs(f) < conv:\n",
    "            break\n",
    "        if f > 0:\n",
    "            b = m\n",
    "        if f < 0:\n",
    "            a = m\n",
    "        e1 = e2\n",
    "        e2 = np.abs(y[a]-y[b])\n",
    "        if prnt:\n",
    "            print('f(m) = {:10.4}: a={}, b={:>2}, error: {:.4}'.format(f,a,b,np.abs(y[a]-y[b])))\n",
    "        if np.abs(e1-e2) < conv:\n",
    "            break\n",
    "    print('Converge for i = {}!'.format(i))\n",
    "    return x[m],y[m]"
   ]
  },
  {
   "cell_type": "code",
   "execution_count": 117,
   "metadata": {
    "collapsed": false
   },
   "outputs": [
    {
     "name": "stdout",
     "output_type": "stream",
     "text": [
      "Converge for i = 6!\n",
      "-0.84 -0.0039039999999999075\n"
     ]
    },
    {
     "data": {
      "image/png": "[encoded data removed]",
      "text/plain": [
       "<Figure size 432x288 with 1 Axes>"
      ]
     },
     "metadata": {},
     "output_type": "display_data"
    }
   ],
   "source": [
    "plt.plot(x,y,'r--')\n",
    "x1,y1=secant(x,y,prnt=False)\n",
    "plt.plot(x1,y1,'bo')\n",
    "print(x1,y1)"
   ]
  },
  {
   "cell_type": "markdown",
   "metadata": {},
   "source": [
    "### Newton's method"
   ]
  },
  {
   "cell_type": "markdown",
   "metadata": {
    "collapsed": true
   },
   "source": [
    "The iteration can be written:\n",
    "\n",
    "$x_{n+1} = x_{n}-\\frac{f(x_{n})}{f'(x_{n})}$"
   ]
  },
  {
   "cell_type": "code",
   "execution_count": 191,
   "metadata": {
    "collapsed": true
   },
   "outputs": [],
   "source": [
    "def newton(x0,x,y,dy, max_it=100,conv=1e-8):\n",
    "    '''\n",
    "    initial point x0 is relative to 0\n",
    "    '''\n",
    "    xn = x0\n",
    "    for i in range(max_it):\n",
    "        xn1 = xn - f(xn)/df(xn)\n",
    "        error = np.abs(xn-xn1)\n",
    "        if error < conv:\n",
    "            print('Convergence for i = {}!'.format(i))\n",
    "            break\n",
    "        xn = xn1\n",
    "    return xn"
   ]
  },
  {
   "cell_type": "code",
   "execution_count": 201,
   "metadata": {
    "collapsed": false
   },
   "outputs": [
    {
     "name": "stdout",
     "output_type": "stream",
     "text": [
      "Convergence for i = 21!\n"
     ]
    },
    {
     "data": {
      "text/plain": [
       "[<matplotlib.lines.Line2D at 0x11c8cec88>]"
      ]
     },
     "execution_count": 201,
     "metadata": {},
     "output_type": "execute_result"
    },
    {
     "data": {
      "image/png": "[encoded data removed]",
      "text/plain": [
       "<Figure size 432x288 with 1 Axes>"
      ]
     },
     "metadata": {},
     "output_type": "display_data"
    }
   ],
   "source": [
    "def f(x):\n",
    "    return -x**3 + 2*x**2 - 2\n",
    "def df(x):\n",
    "    return -3*x**2 + 4*x\n",
    "\n",
    "x0=newton(0.5,x,y,dy)\n",
    "#print(x0)\n",
    "plt.plot(x,y,'r--')\n",
    "plt.plot(x0,f(x0),'bo')"
   ]
  },
  {
   "cell_type": "markdown",
   "metadata": {},
   "source": [
    "### Broyden's method"
   ]
  },
  {
   "cell_type": "code",
   "execution_count": null,
   "metadata": {
    "collapsed": true
   },
   "outputs": [],
   "source": []
  },
  {
   "cell_type": "markdown",
   "metadata": {},
   "source": [
    "### Steepest descent"
   ]
  },
  {
   "cell_type": "code",
   "execution_count": null,
   "metadata": {
    "collapsed": true
   },
   "outputs": [],
   "source": []
  }
 ],
 "metadata": {
  "kernelspec": {
   "display_name": "Python 3",
   "language": "python",
   "name": "python3"
  },
  "language_info": {
   "codemirror_mode": {
    "name": "ipython",
    "version": 3
   },
   "file_extension": ".py",
   "mimetype": "text/x-python",
   "name": "python",
   "nbconvert_exporter": "python",
   "pygments_lexer": "ipython3",
   "version": "3.6.6"
  }
 },
 "nbformat": 4,
 "nbformat_minor": 2
}
