{
 "cells": [
  {
   "cell_type": "code",
   "execution_count": 1,
   "metadata": {
    "collapsed": false
   },
   "outputs": [
    {
     "ename": "ModuleNotFoundError",
     "evalue": "No module named 'algorithms'",
     "output_type": "error",
     "traceback": [
      "\u001b[0;31m---------------------------------------------------------------------------\u001b[0m",
      "\u001b[0;31mModuleNotFoundError\u001b[0m                       Traceback (most recent call last)",
      "\u001b[0;32m<ipython-input-1-34859580a715>\u001b[0m in \u001b[0;36m<module>\u001b[0;34m()\u001b[0m\n\u001b[1;32m      2\u001b[0m \u001b[0;32mimport\u001b[0m \u001b[0mmatplotlib\u001b[0m\u001b[0;34m.\u001b[0m\u001b[0mpyplot\u001b[0m \u001b[0;32mas\u001b[0m \u001b[0mplt\u001b[0m\u001b[0;34m\u001b[0m\u001b[0m\n\u001b[1;32m      3\u001b[0m \u001b[0;34m\u001b[0m\u001b[0m\n\u001b[0;32m----> 4\u001b[0;31m \u001b[0;32mimport\u001b[0m \u001b[0malgorithms\u001b[0m \u001b[0;32mas\u001b[0m \u001b[0malg\u001b[0m\u001b[0;34m\u001b[0m\u001b[0m\n\u001b[0m\u001b[1;32m      5\u001b[0m \u001b[0;34m\u001b[0m\u001b[0m\n\u001b[1;32m      6\u001b[0m \u001b[0mget_ipython\u001b[0m\u001b[0;34m(\u001b[0m\u001b[0;34m)\u001b[0m\u001b[0;34m.\u001b[0m\u001b[0mmagic\u001b[0m\u001b[0;34m(\u001b[0m\u001b[0;34m'load_ext autoreload'\u001b[0m\u001b[0;34m)\u001b[0m\u001b[0;34m\u001b[0m\u001b[0m\n",
      "\u001b[0;31mModuleNotFoundError\u001b[0m: No module named 'algorithms'"
     ]
    }
   ],
   "source": [
    "import numpy as np\n",
    "import matplotlib.pyplot as plt\n",
    "\n",
    "import algorithms as alg\n",
    "\n",
    "%load_ext autoreload\n",
    "%autoreload 2"
   ]
  },
  {
   "cell_type": "markdown",
   "metadata": {
    "collapsed": true
   },
   "source": [
    "# Singular Value Decomposition"
   ]
  },
  {
   "cell_type": "markdown",
   "metadata": {},
   "source": [
    "For nonsingular nxn matrix A\n",
    "\n",
    "##### Properties of A"
   ]
  },
  {
   "cell_type": "code",
   "execution_count": 2,
   "metadata": {
    "collapsed": false
   },
   "outputs": [
    {
     "name": "stdout",
     "output_type": "stream",
     "text": [
      "A:\n",
      "[[1 2]\n",
      " [3 4]]\n",
      "A.T@A\n",
      "[[10 14]\n",
      " [14 20]]\n",
      "A@A.T:\n",
      "[[ 5 11]\n",
      " [11 25]]\n"
     ]
    }
   ],
   "source": [
    "A = np.array([[1,2],[3,4]])\n",
    "print('A:')\n",
    "print(A)\n",
    "\n",
    "print('A.T@A')\n",
    "print(A.T @ A)\n",
    "print('A@A.T:')\n",
    "print(A @ A.T)"
   ]
  },
  {
   "cell_type": "markdown",
   "metadata": {},
   "source": [
    "Eigenvalues of $A^TA$ and $AA^T$ are equal:"
   ]
  },
  {
   "cell_type": "code",
   "execution_count": 3,
   "metadata": {
    "collapsed": false
   },
   "outputs": [
    {
     "name": "stdout",
     "output_type": "stream",
     "text": [
      "[ 0.13393125 29.86606875]  =  [ 0.13393125 29.86606875]\n"
     ]
    }
   ],
   "source": [
    "val1,vec1 = np.linalg.eig(A.T @ A)\n",
    "val2,vec2 = np.linalg.eig(A @ A.T)\n",
    "print(val1, ' = ', val2)"
   ]
  },
  {
   "cell_type": "markdown",
   "metadata": {},
   "source": [
    "Eigenvectors of $A^TA$ and $AA^T$ are NOT equal:"
   ]
  },
  {
   "cell_type": "code",
   "execution_count": 4,
   "metadata": {
    "collapsed": false
   },
   "outputs": [
    {
     "name": "stdout",
     "output_type": "stream",
     "text": [
      "[[-0.81741556 -0.57604844]\n",
      " [ 0.57604844 -0.81741556]]\n",
      " != \n",
      "[[-0.9145143  -0.40455358]\n",
      " [ 0.40455358 -0.9145143 ]]\n"
     ]
    }
   ],
   "source": [
    "print(vec1)\n",
    "print( ' != ')\n",
    "print(vec2)"
   ]
  },
  {
   "cell_type": "markdown",
   "metadata": {},
   "source": [
    "### Factorization of A"
   ]
  },
  {
   "cell_type": "markdown",
   "metadata": {},
   "source": [
    "Have that $A^TAv_j=\\lambda_jv_j$ for $j=1,..,n$\n",
    "\n",
    "Order the eigenvalues $\\lambda_1 \\geq \\lambda_2 \\geq .. \\geq \\lambda_n \\geq 0$ and let $D$ be the diagonal matrix with entries $D_{i,i}=\\lambda_i$.\n",
    "\n",
    "Since $v_i^TA^TAv_j=\\lambda_jv_i^Tv_j=\\lambda_j\\delta_{ij}$, we get\n",
    "\n",
    "$V^TA^TAV=D$"
   ]
  },
  {
   "cell_type": "markdown",
   "metadata": {},
   "source": [
    "Let $U=AVD^{-\\frac{1}{2}}$, then\n",
    "\n",
    "$A = UD^{\\frac{1}{2}}V^T$\n",
    "\n",
    "Where the coloumns of $U$ are orthogonal, that is $U^TU = I$."
   ]
  },
  {
   "cell_type": "markdown",
   "metadata": {},
   "source": [
    "Can then show that the coloumns of $U$ are eigenvectors of $AA^T$:\n",
    "\n",
    "$U^TAA^TU=(AVD^{-\\frac{1}{2}})^TAA^T(AVD^{-\\frac{1}{2}})=D^{-\\frac{1}{2}}(V^TA^TA)(A^TAV)D^{\\frac{1}{2}}=\n",
    "D^{-\\frac{1}{2}}(DV^T)(VD)D^{\\frac{1}{2}}=D^{-\\frac{1}{2}}DDD^{\\frac{1}{2}}=D$\n",
    "\n",
    "So that $AA^Tu_j=\\lambda_ju_j$"
   ]
  },
  {
   "cell_type": "markdown",
   "metadata": {},
   "source": [
    "### Singular values"
   ]
  },
  {
   "cell_type": "markdown",
   "metadata": {},
   "source": [
    "Let $\\sigma_i=\\sqrt{\\lambda_i}$ for $i=1,...,n$ which is the singular values of A, if we set $S=D^{\\frac{1}{2}}$ then \n",
    "\n",
    "$A=USV^T$ (can also be written as $A=\\sum_{j=1}^{n}\\sigma_ju_jv_j^T$)\n",
    "\n",
    "which is the singular value decomposition!"
   ]
  },
  {
   "cell_type": "markdown",
   "metadata": {},
   "source": [
    "### Example:"
   ]
  },
  {
   "cell_type": "code",
   "execution_count": 5,
   "metadata": {
    "collapsed": false
   },
   "outputs": [
    {
     "data": {
      "text/plain": [
       "array([[ 1,  0,  1],\n",
       "       [-1, -2,  0],\n",
       "       [ 0,  1, -1]])"
      ]
     },
     "execution_count": 5,
     "metadata": {},
     "output_type": "execute_result"
    }
   ],
   "source": [
    "A = np.array([[1,0,1],[-1,-2,0],[0,1,-1]])\n",
    "A"
   ]
  },
  {
   "cell_type": "code",
   "execution_count": 6,
   "metadata": {
    "collapsed": false
   },
   "outputs": [
    {
     "ename": "NameError",
     "evalue": "name 'alg' is not defined",
     "output_type": "error",
     "traceback": [
      "\u001b[0;31m---------------------------------------------------------------------------\u001b[0m",
      "\u001b[0;31mNameError\u001b[0m                                 Traceback (most recent call last)",
      "\u001b[0;32m<ipython-input-6-eb28179a2a96>\u001b[0m in \u001b[0;36m<module>\u001b[0;34m()\u001b[0m\n\u001b[0;32m----> 1\u001b[0;31m \u001b[0malg\u001b[0m\u001b[0;34m.\u001b[0m\u001b[0msvd\u001b[0m\u001b[0;34m(\u001b[0m\u001b[0mA\u001b[0m\u001b[0;34m)\u001b[0m\u001b[0;34m\u001b[0m\u001b[0m\n\u001b[0m",
      "\u001b[0;31mNameError\u001b[0m: name 'alg' is not defined"
     ]
    }
   ],
   "source": [
    "alg.svd(A)"
   ]
  },
  {
   "cell_type": "markdown",
   "metadata": {},
   "source": [
    "# Full SVD"
   ]
  },
  {
   "cell_type": "markdown",
   "metadata": {
    "collapsed": true
   },
   "source": [
    "For a general case, A can be a $n\\times m$ matrix (where $n<m$,$n=m$ or $n>m$)."
   ]
  },
  {
   "cell_type": "markdown",
   "metadata": {
    "collapsed": false
   },
   "source": [
    "For $n>m$ and $n<m$, so $A^TA$ and $AA^T$ are $m\\times m$ and $n\\times n$ respectivly. They can have eigenvalues that are zero. "
   ]
  },
  {
   "cell_type": "markdown",
   "metadata": {},
   "source": [
    "### $A^TA$:\n",
    "is $m\\times m$ and have orthonormal eigenvectors given as\n",
    "\n",
    "$A^TAv_j=\\lambda_jv_j$ for $j=1,...,m$.\n",
    "\n",
    "where $\\lambda_1 \\geq \\lambda_2 \\geq ... \\geq \\lambda_k > 0$ and $\\lambda_{k+1} = ... = \\lambda_m = 0$. Here $k$ is the rank(A).  \n",
    "\n",
    "If $V$ is the orthogonal matrix with coloumns $v_1,...,v_m$ $D$ is the diagonal matrix with entries $D_{i,i}=\\lambda_i$, then\n",
    "\n",
    "$V^TA^TAV=D=\n",
    "\\begin{bmatrix}\n",
    "    D_1 & 0 \\\\\n",
    "    0 & 0 \\\\\n",
    "\\end{bmatrix}$, where $D_1$ is $k \\times k$ containing non-zero portion of $D$.\n",
    "\n",
    "Now $\\begin{bmatrix}V_1^T \\\\ V_2^T \\\\ \\end{bmatrix}A^TA\\begin{bmatrix}V_1 & V_2 \\\\ \\end{bmatrix}=D=\\begin{bmatrix}\n",
    "    D_1 & 0 \\\\\n",
    "    0 & 0 \\\\\n",
    "\\end{bmatrix}$, so $V_1^TA^TAV_1=D_1$ and $V_2^TA^TAV_2=0$\n",
    "\n",
    "Can now define the $n \\times k$ matrix\n",
    "\n",
    "$U_1=AV_1D_1^{-\\frac{1}{2}}$, and so\n",
    "\n",
    "$A = U_1S_1V_1^T$, for $S_1 = D_1^{\\frac{1}{2}}$ "
   ]
  },
  {
   "cell_type": "markdown",
   "metadata": {},
   "source": [
    "### $AA^T$:\n",
    "\n",
    "$U_1$ is orthonormal and $U_1^TU_1=I$, so\n",
    "\n",
    "$U_1^TAA^TU_1=D_1$, and the coloumns of $U_1$ is the eigenvectors of $AA^T$:\n",
    "\n",
    "$AA^Tu_j=\\lambda_ju_j$, for $j=1,...,k$.\n",
    "\n",
    "Finally we only need a $n \\times (n-k)$ matrix $U_2$ with orthogonal coloumns to $U_1$, such that $U=\\begin{bmatrix}U_1 & U_2 \\\\ \\end{bmatrix}$, which give the full SVD:\n",
    "\n",
    "$A = USV^T$"
   ]
  },
  {
   "cell_type": "code",
   "execution_count": 7,
   "metadata": {
    "collapsed": false
   },
   "outputs": [
    {
     "data": {
      "text/plain": [
       "array([[1, 2],\n",
       "       [3, 4],\n",
       "       [5, 6],\n",
       "       [7, 8]])"
      ]
     },
     "execution_count": 7,
     "metadata": {},
     "output_type": "execute_result"
    }
   ],
   "source": [
    "B = np.array([[1,2],[3,4],[5,6],[7,8]])\n",
    "B"
   ]
  },
  {
   "cell_type": "markdown",
   "metadata": {
    "collapsed": false
   },
   "source": [
    "# Least squares with SVD"
   ]
  },
  {
   "cell_type": "markdown",
   "metadata": {
    "collapsed": false
   },
   "source": [
    "Have some overdetermined system of eqations $Ax-b=0$, where $n>m$. Want to minimize $||Ax-b||^2$, after some math we find that x can be written as:\n",
    "\n",
    "$x= \\sum_{i=1}^{k} \\frac{u_i^Tb}{\\sigma_i}v_i$    (*)"
   ]
  },
  {
   "cell_type": "markdown",
   "metadata": {},
   "source": [
    "This however is not suitable in general since we have to calculate the eigenvectors and eigenvalues of $A^TA$. A better way is to solve the normal equations. Also calculating $A^TA$ can lead to loss of accuracy and a solution for the least square problem only exist for (*) if $A^T(Ax-b)=0$."
   ]
  },
  {
   "cell_type": "markdown",
   "metadata": {},
   "source": [
    "# TEST"
   ]
  },
  {
   "cell_type": "code",
   "execution_count": 8,
   "metadata": {
    "collapsed": false
   },
   "outputs": [],
   "source": [
    "def svd(A):\n",
    "    \"\"\" \n",
    "    Factorize a matrix A = USV.T\n",
    "    \"\"\"\n",
    "    n = A.shape[1]\n",
    "    m = A.shape[0]\n",
    "    k = np.abs(n-m)\n",
    "    print('A:')\n",
    "    print(A)\n",
    "    print('n = ',n,', m = ',m)\n",
    "    print('A@A.T.shape: ', (A@A.T).shape,' for U')\n",
    "    print('A.T@A.shape: ', (A.T@A).shape,' for V')\n",
    "    d1, u = np.linalg.eigh(A@A.T)\n",
    "    print('Du: ', d1)\n",
    "    d2, v = np.linalg.eigh(A.T@A)\n",
    "    print('Dv: ', d1)\n",
    "    D = -np.sort(-d1) #Get diagonal elements in descending order\n",
    "    \n",
    "    # make i > n-k elements equal to 0 if precision is bad\n",
    "    if n != m:\n",
    "        for i in range(k):\n",
    "            print(i)\n",
    "            D[min(n,m)+i] = 0\n",
    "    print('sort u: ',np.argsort(-d1))\n",
    "    print('sort v: ',np.argsort(-d2))\n",
    "    \n",
    "    print('U:')\n",
    "    print(u)\n",
    "    print('V:')\n",
    "    print(v)\n",
    "    # Need to sort u in the order of \n",
    "    # descending sort of eigenvalues d1\n",
    "    U = np.zeros_like(u)\n",
    "    for i in range(u.shape[0]):\n",
    "        if n != m and i > max(n,m)-k: #For nxm matrices\n",
    "            U.T[i] =u.T[np.argsort(-d1)[i-max(n,m)-k]]\n",
    "        if i == np.argsort(-d1)[i]:\n",
    "            U.T[i] = u.T[np.argsort(-d1)[i]]\n",
    "        else:\n",
    "            U.T[i] = u.T[np.argsort(-d1)[i]]\n",
    "                \n",
    "    # Need to sort v in the order of \n",
    "    # descending sort of eigenvalues d2        \n",
    "    V = np.zeros_like(v)\n",
    "    for i in range(v.shape[0]):\n",
    "        if i == np.argsort(-d2)[i]:\n",
    "            V.T[i] = v.T[np.argsort(-d2)[i]]\n",
    "        else:\n",
    "            V.T[i] = v.T[np.argsort(-d2)[i]]\n",
    "                \n",
    "    S = np.diagflat(np.sqrt(D)) # singular values, sqrt(d) are the diagonal elements of a matrix\n",
    "    \n",
    "    if n != m:\n",
    "        return U, S[:,:min(m,n)], V, A, U@S[:,:min(m,n)]@V.T\n",
    "    else:\n",
    "        return U, S, V, A, U@S@V.T, np.linalg.det(A)"
   ]
  },
  {
   "cell_type": "code",
   "execution_count": 11,
   "metadata": {
    "collapsed": false
   },
   "outputs": [
    {
     "name": "stdout",
     "output_type": "stream",
     "text": [
      "A:\n",
      "[[1 2]\n",
      " [3 4]\n",
      " [5 6]\n",
      " [7 8]]\n",
      "n =  2 , m =  4\n",
      "A@A.T.shape:  (4, 4)  for U\n",
      "A.T@A.shape:  (2, 2)  for V\n",
      "Du:  [-1.35209474e-14  1.53805709e-14  3.92913633e-01  2.03607086e+02]\n",
      "Dv:  [-1.35209474e-14  1.53805709e-14  3.92913633e-01  2.03607086e+02]\n",
      "0\n",
      "1\n",
      "sort u:  [3 2 1 0]\n",
      "sort v:  [1 0]\n",
      "U:\n",
      "[[-0.42132414  0.34997996 -0.82264747 -0.15248323]\n",
      " [ 0.30090586 -0.78067641 -0.42137529 -0.34991837]\n",
      " [ 0.6621607   0.51141296 -0.0201031  -0.54735351]\n",
      " [-0.54174242 -0.0807165   0.38116908 -0.74478865]]\n",
      "V:\n",
      "[[-0.7671874   0.64142303]\n",
      " [ 0.64142303  0.7671874 ]]\n"
     ]
    },
    {
     "data": {
      "text/plain": [
       "(array([[-0.15248323, -0.82264747,  0.34997996, -0.42132414],\n",
       "        [-0.34991837, -0.42137529, -0.78067641,  0.30090586],\n",
       "        [-0.54735351, -0.0201031 ,  0.51141296,  0.6621607 ],\n",
       "        [-0.74478865,  0.38116908, -0.0807165 , -0.54174242]]),\n",
       " array([[14.2690955 ,  0.        ],\n",
       "        [ 0.        ,  0.62682823],\n",
       "        [ 0.        ,  0.        ],\n",
       "        [ 0.        ,  0.        ]]),\n",
       " array([[ 0.64142303, -0.7671874 ],\n",
       "        [ 0.7671874 ,  0.64142303]]),\n",
       " array([[1, 2],\n",
       "        [3, 4],\n",
       "        [5, 6],\n",
       "        [7, 8]]),\n",
       " array([[-1., -2.],\n",
       "        [-3., -4.],\n",
       "        [-5., -6.],\n",
       "        [-7., -8.]]))"
      ]
     },
     "execution_count": 11,
     "metadata": {},
     "output_type": "execute_result"
    }
   ],
   "source": [
    "\n",
    "#a,s,d = \n",
    "svd(B)\n",
    "#print(a@s@d.T)"
   ]
  },
  {
   "cell_type": "code",
   "execution_count": 214,
   "metadata": {
    "collapsed": false
   },
   "outputs": [
    {
     "name": "stdout",
     "output_type": "stream",
     "text": [
      "A:\n",
      "[[0.14449194 2.84511924 4.70126429]\n",
      " [0.73600971 2.52811677 3.74861577]\n",
      " [1.08786078 4.16457204 3.01440701]\n",
      " [1.60226041 3.60873617 1.5029191 ]\n",
      " [0.81110625 3.89358137 3.56295555]\n",
      " [4.66853409 3.79199273 4.33155708]]\n",
      "n =  3 , m =  6\n",
      "A@A.T.shape:  (6, 6)  for U\n",
      "A.T@A.shape:  (3, 3)  for V\n",
      "Du:  [-1.95248576e-14  1.94410779e-15  4.48011817e-15  5.11915195e+00\n",
      "  1.14029099e+01  1.63592670e+02]\n",
      "Dv:  [-1.95248576e-14  1.94410779e-15  4.48011817e-15  5.11915195e+00\n",
      "  1.14029099e+01  1.63592670e+02]\n",
      "0\n",
      "1\n",
      "2\n",
      "sort u:  [5 4 3 2 1 0]\n",
      "sort v:  [2 1 0]\n",
      "U:\n",
      "[[ 0.42151226  0.25156201 -0.41562624  0.35805082  0.54606107 -0.39989464]\n",
      " [-0.84796823 -0.12943272 -0.02132902  0.26446555  0.26978675 -0.34787241]\n",
      " [-0.04715962  0.63116615  0.48095659 -0.44140946  0.10646615 -0.40237876]\n",
      " [-0.10636614 -0.08077779 -0.67872305 -0.6167323  -0.21731361 -0.30645112]\n",
      " [ 0.27426909 -0.71745862  0.35950722 -0.23064731  0.24306154 -0.41049612]\n",
      " [ 0.12048229  0.0179192   0.07463407  0.41648333 -0.71511765 -0.54290059]]\n",
      "V:\n",
      "[[ 0.23659722 -0.91693026 -0.32134197]\n",
      " [-0.74930836  0.03834338 -0.66111026]\n",
      " [ 0.61851333  0.39720107 -0.67799157]]\n"
     ]
    },
    {
     "data": {
      "text/plain": [
       "(array([[-0.39989464,  0.54606107,  0.35805082, -0.41562624,  0.25156201,\n",
       "          0.42151226],\n",
       "        [-0.34787241,  0.26978675,  0.26446555, -0.02132902, -0.12943272,\n",
       "         -0.84796823],\n",
       "        [-0.40237876,  0.10646615, -0.44140946,  0.48095659,  0.63116615,\n",
       "         -0.04715962],\n",
       "        [-0.30645112, -0.21731361, -0.6167323 , -0.67872305, -0.08077779,\n",
       "         -0.10636614],\n",
       "        [-0.41049612,  0.24306154, -0.23064731,  0.35950722, -0.71745862,\n",
       "          0.27426909],\n",
       "        [-0.54290059, -0.71511765,  0.41648333,  0.07463407,  0.0179192 ,\n",
       "          0.12048229]]), array([[12.79033502,  0.        ,  0.        ],\n",
       "        [ 0.        ,  3.3768195 ,  0.        ],\n",
       "        [ 0.        ,  0.        ,  2.2625543 ],\n",
       "        [ 0.        ,  0.        ,  0.        ],\n",
       "        [ 0.        ,  0.        ,  0.        ],\n",
       "        [ 0.        ,  0.        ,  0.        ]]), array([[-0.32134197, -0.91693026,  0.23659722],\n",
       "        [-0.66111026,  0.03834338, -0.74930836],\n",
       "        [-0.67799157,  0.39720107,  0.61851333]]), array([[0.14449194, 2.84511924, 4.70126429],\n",
       "        [0.73600971, 2.52811677, 3.74861577],\n",
       "        [1.08786078, 4.16457204, 3.01440701],\n",
       "        [1.60226041, 3.60873617, 1.5029191 ],\n",
       "        [0.81110625, 3.89358137, 3.56295555],\n",
       "        [4.66853409, 3.79199273, 4.33155708]]), array([[0.14449194, 2.84511924, 4.70126429],\n",
       "        [0.73600971, 2.52811677, 3.74861577],\n",
       "        [1.08786078, 4.16457204, 3.01440701],\n",
       "        [1.60226041, 3.60873617, 1.5029191 ],\n",
       "        [0.81110625, 3.89358137, 3.56295555],\n",
       "        [4.66853409, 3.79199273, 4.33155708]]))"
      ]
     },
     "execution_count": 214,
     "metadata": {},
     "output_type": "execute_result"
    }
   ],
   "source": [
    "import random\n",
    "mat = np.random.rand(6,3)*5\n",
    "#print(mat)\n",
    "svd(mat)\n",
    "#print(q@w@e.T)"
   ]
  },
  {
   "cell_type": "code",
   "execution_count": null,
   "metadata": {
    "collapsed": true
   },
   "outputs": [],
   "source": []
  },
  {
   "cell_type": "code",
   "execution_count": null,
   "metadata": {
    "collapsed": true
   },
   "outputs": [],
   "source": []
  },
  {
   "cell_type": "code",
   "execution_count": null,
   "metadata": {
    "collapsed": true
   },
   "outputs": [],
   "source": []
  }
 ],
 "metadata": {
  "kernelspec": {
   "display_name": "Python 3",
   "language": "python",
   "name": "python3"
  },
  "language_info": {
   "codemirror_mode": {
    "name": "ipython",
    "version": 3
   },
   "file_extension": ".py",
   "mimetype": "text/x-python",
   "name": "python",
   "nbconvert_exporter": "python",
   "pygments_lexer": "ipython3",
   "version": "3.6.6"
  }
 },
 "nbformat": 4,
 "nbformat_minor": 2
}
