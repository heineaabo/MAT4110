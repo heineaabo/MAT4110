{
 "cells": [
  {
   "cell_type": "code",
   "execution_count": 11,
   "metadata": {
    "collapsed": false
   },
   "outputs": [],
   "source": [
    "import numpy as np\n",
    "# L or U must be traingular\n",
    "# L and U are nxn matrices, b is n vector\n",
    " \n",
    "def forward(L,b):\n",
    "    n = L.shape[0]\n",
    "    x = np.zeros(n)\n",
    "    x[0] = b[0]/L[0][0]\n",
    "    for i in range(1,n):\n",
    "        x[i] = b[i]\n",
    "        for j in range(i):\n",
    "            x[i] -= (L[i][j]*x[j])\n",
    "        x[i] = x[i]/L[i][i]\n",
    "    return x\n",
    "\n",
    "def back(U,b):\n",
    "    n = U.shape[0]\n",
    "    x = np.zeros(n)\n",
    "    if b.shape == (1,n):\n",
    "        b = b.T\n",
    "    x[n-1] = b[n-1]/U[n-1][n-1]\n",
    "    for i in range(n-1,-1,-1):\n",
    "        x[i] = b[i]\n",
    "        for j in range(i+1,m):\n",
    "            x[i] -= (U[i][j]*x[j])\n",
    "        x[i] = x[i]/U[i][i]\n",
    "    return x"
   ]
  },
  {
   "cell_type": "code",
   "execution_count": 10,
   "metadata": {
    "collapsed": true
   },
   "outputs": [],
   "source": [
    "def cholesky(A, dhalf = False):\n",
    "    \"\"\"A is a symmetric nxn matrix,\n",
    "       returns lower triangular nxn L \n",
    "       and diagonal nxn D\"\"\" \n",
    "    n = A.shape[0]\n",
    "    L = np.zeros((n,n))\n",
    "    D = np.zeros((n,n))\n",
    "    if dhalf:\n",
    "        D2 = np.zeros((n,n))\n",
    "    for i in range(n):\n",
    "        D[i][i] = A[i][i]\n",
    "        if dhalf:\n",
    "            D2[i][i] = np.sqrt(A[i][i])\n",
    "        L.T[i] = A.T[i] / A[i][i]\n",
    "        A = A - D[i][i]*np.outer(L.T[i],L.T[i])\n",
    "    if dhalf:\n",
    "        return (L,D,D2)\n",
    "    else:\n",
    "        return(L,D)\n",
    "    \n",
    "def QR(A):\n",
    "    \"\"\"For square matrix A\"\"\"\n",
    "    n,m = A.shape\n",
    "    if n > m:\n",
    "        A = A.T\n",
    "    n = A.shape[0]\n",
    "    Q = np.zeros((n,m))\n",
    "    R = np.zeros((n,m))\n",
    "    for k in range(n):\n",
    "        w = A.T[k]\n",
    "        for i in range(k):\n",
    "            w = w - np.inner(Q.T[i],A.T[k])*Q.T[i]\n",
    "            R[i][k] = np.inner(Q.T[i],A.T[k])\n",
    "        R[k][k] = np.sqrt(np.inner(w,w))\n",
    "        Q.T[k] = w / R[k][k]\n",
    "\n",
    "    return (Q,R)"
   ]
  },
  {
   "cell_type": "code",
   "execution_count": 9,
   "metadata": {
    "collapsed": true
   },
   "outputs": [],
   "source": [
    "import numpy as np\n",
    "from random import random\n",
    "import matplotlib.pyplot as plt\n",
    "#from substitution import back\n",
    "#from factorize import QR, cholesky\n",
    "\n",
    "N = 30\n",
    "\n",
    "start = -2\n",
    "stop = 2\n",
    "noise = 1\n",
    "\n",
    "x = np.linspace(start,stop,N)\n",
    "\n",
    "##### Find y-values for both datasets\n",
    "n = x.shape[0]\n",
    "y1 = np.zeros(n)\n",
    "y2 = np.zeros(n)\n",
    "for i in range(n):\n",
    "    r = random() * noise\n",
    "    y1[i] = x[i] * (np.cos(r + 0.5*x[i]**3) + np.sin(0.5*x[i]**3))\n",
    "    y2[i] = 4*x[i]**5 - 5*x[i]**4 - 20*x[i]**3 + 10*x[i]**2 + 40*x[i] + 10 + r"
   ]
  },
  {
   "cell_type": "code",
   "execution_count": 12,
   "metadata": {
    "collapsed": false,
    "scrolled": false
   },
   "outputs": [
    {
     "data": {
      "image/png": "[encoded data removed]",
      "text/plain": [
       "<matplotlib.figure.Figure at 0x1109e6be0>"
      ]
     },
     "metadata": {},
     "output_type": "display_data"
    }
   ],
   "source": [
    "m = 8\n",
    "A = np.array([x**i for i in range(m)]).T\n",
    "B = A.T@A\n",
    "Ab1 = A.T@y1\n",
    "Ab2 = A.T@y2\n",
    "\n",
    "\n",
    "# CHOLESKY\n",
    "def least_cholesky(B,Ab):\n",
    "    \"\"\"\n",
    "    (A.T@A)x = A.T@b\n",
    "      =>  Bx = y\n",
    "  => R.T@R@x = y\n",
    "    => R.T@w = y\n",
    "     where w = R@x\n",
    "     \n",
    "     R   - upper triangular\n",
    "     R.T - lower triangular \n",
    "    \"\"\"\n",
    "    L,D,D2 = cholesky(B,True)\n",
    "    R = L@D2\n",
    "    w = forward(R,Ab)\n",
    "    x = back(R.T,w)\n",
    "    \n",
    "    return x\n",
    "\n",
    "    \n",
    "# QR\n",
    "def least_qr(A,b):\n",
    "    \"\"\"\n",
    "    R = [R1,0].T\n",
    "    Q.T@y = [c1,c2].T\n",
    "    R1x = c1\n",
    "    \"\"\"\n",
    "    Q,R = np.linalg.qr(A)\n",
    "    Qm,Rm = QR(A)\n",
    "    #print(Q.shape)\n",
    "    #print(Qm.shape)\n",
    "    R1 = R[:m]\n",
    "    Qb = Q.T @ b\n",
    "    Q1 = Qb[:m]\n",
    "    x = back(R1,Q1)\n",
    "    \n",
    "    return x\n",
    "    \n",
    "# QR\n",
    "xhat1 = least_qr(A,y1)\n",
    "yp1 = A.dot(xhat1)\n",
    "xhat2 = least_qr(A,y2)\n",
    "yp2 = A.dot(xhat2)\n",
    "\n",
    "# Cholesky\n",
    "xhat3 = least_cholesky(B,Ab1)\n",
    "yp3 = A.dot(xhat3)\n",
    "xhat4 = least_cholesky(B,Ab2)\n",
    "yp4 = A.dot(xhat4)\n",
    "\n",
    "\n",
    "plt.subplot(221)\n",
    "plt.plot(x,y1, 'b.')\n",
    "plt.plot(x,yp1, 'r-')\n",
    "plt.xlabel(r'$x$')\n",
    "plt.ylabel(r'$y$')\n",
    "plt.title(r'QR1')\n",
    "plt.xlim(-2,2)\n",
    "\n",
    "plt.subplot(222)\n",
    "plt.plot(x,y1, 'b.')\n",
    "plt.plot(x,yp3, 'r-')\n",
    "plt.xlabel(r'$x$')\n",
    "plt.ylabel(r'$y$')\n",
    "plt.title(r'Cholesky1')\n",
    "plt.xlim(-2,2)\n",
    "\n",
    "plt.subplot(223)\n",
    "plt.plot(x,y2, 'b.')\n",
    "plt.plot(x,yp2, 'r-')\n",
    "plt.xlabel(r'$x$')\n",
    "plt.ylabel(r'$y$')\n",
    "plt.title(r'QR2')\n",
    "plt.xlim(-2,2)\n",
    "\n",
    "plt.subplot(224)\n",
    "plt.plot(x,y2, 'b.')\n",
    "plt.plot(x,yp4, 'r-')\n",
    "plt.xlabel(r'$x$')\n",
    "plt.ylabel(r'$y$')\n",
    "plt.title(r'Cholesky2')\n",
    "plt.xlim(-2,2)\n",
    "\n",
    "#plt.ylim(-100,100)\n",
    "plt.show()\n",
    "\n",
    "#print(sum(abs(yp2-yp4)))"
   ]
  },
  {
   "cell_type": "code",
   "execution_count": null,
   "metadata": {
    "collapsed": true
   },
   "outputs": [],
   "source": []
  },
  {
   "cell_type": "code",
   "execution_count": 44,
   "metadata": {
    "collapsed": false
   },
   "outputs": [
    {
     "name": "stdout",
     "output_type": "stream",
     "text": [
      "Relative error:\n",
      "QR1:  12.8002157941\n",
      "QR2:  0.571968268271\n",
      "Cholesky1:  12.8002157941\n",
      "Cholesky2:  1.8315894077\n"
     ]
    }
   ],
   "source": [
    "#### ERROR\n",
    "print('Relative error:')\n",
    "#QR1\n",
    "err_q1 = np.sum(np.abs((y1-yp1)/y1))\n",
    "print('QR1: ',err_q1)\n",
    "\n",
    "#QR2\n",
    "err_q2 = np.sum(np.abs((y2-yp2)/y2))\n",
    "print('QR2: ',err_q2)\n",
    "\n",
    "#Cholesky1\n",
    "err_c1 = np.sum(np.abs((y1-yp3)/y1))\n",
    "print('Cholesky1: ',err_c1)\n",
    "\n",
    "#cholesky2\n",
    "err_c2 = np.sum(np.abs((y2-yp4)/y2))\n",
    "print('Cholesky2: ',err_c2)"
   ]
  },
  {
   "cell_type": "code",
   "execution_count": null,
   "metadata": {
    "collapsed": false
   },
   "outputs": [],
   "source": []
  },
  {
   "cell_type": "code",
   "execution_count": null,
   "metadata": {
    "collapsed": true
   },
   "outputs": [],
   "source": []
  },
  {
   "cell_type": "code",
   "execution_count": null,
   "metadata": {
    "collapsed": false
   },
   "outputs": [],
   "source": []
  },
  {
   "cell_type": "code",
   "execution_count": null,
   "metadata": {
    "collapsed": false
   },
   "outputs": [],
   "source": []
  },
  {
   "cell_type": "code",
   "execution_count": null,
   "metadata": {
    "collapsed": false
   },
   "outputs": [],
   "source": []
  }
 ],
 "metadata": {
  "kernelspec": {
   "display_name": "Python 3",
   "language": "python",
   "name": "python3"
  },
  "language_info": {
   "codemirror_mode": {
    "name": "ipython",
    "version": 3
   },
   "file_extension": ".py",
   "mimetype": "text/x-python",
   "name": "python",
   "nbconvert_exporter": "python",
   "pygments_lexer": "ipython3",
   "version": "3.6.0"
  }
 },
 "nbformat": 4,
 "nbformat_minor": 2
}
